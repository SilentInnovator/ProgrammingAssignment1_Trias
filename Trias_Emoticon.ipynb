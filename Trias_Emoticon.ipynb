{
 "cells": [
  {
   "cell_type": "code",
   "execution_count": 69,
   "id": "251a2f3a-942e-4138-b071-453ba7829935",
   "metadata": {
    "scrolled": true
   },
   "outputs": [
    {
     "name": "stdin",
     "output_type": "stream",
     "text": [
      " smile for the camera!\n"
     ]
    }
   ],
   "source": [
    "s = input (\"\")"
   ]
  },
  {
   "cell_type": "code",
   "execution_count": 71,
   "id": "87cb6609-fe58-46f4-b66a-a71cd8a94316",
   "metadata": {},
   "outputs": [],
   "source": [
    "def emoticon (s):\n",
    "    s = s.replace (\"smile\", \":)\")\n",
    "    s = s.replace (\"grin\", \":D\")\n",
    "    s = s.replace (\"sad\", \":((\")\n",
    "    s = s.replace (\"mad\", \">:(\")\n",
    "    return s"
   ]
  },
  {
   "cell_type": "code",
   "execution_count": 73,
   "id": "487a3a5b-3ebb-4b49-95a5-91b4849be6d5",
   "metadata": {},
   "outputs": [],
   "source": [
    "x = emoticon (s)"
   ]
  },
  {
   "cell_type": "code",
   "execution_count": 75,
   "id": "bf269c37-abb4-45a0-848a-92db7007b3dd",
   "metadata": {},
   "outputs": [
    {
     "name": "stdout",
     "output_type": "stream",
     "text": [
      ":) for the camera!\n"
     ]
    }
   ],
   "source": [
    "print (x)"
   ]
  }
 ],
 "metadata": {
  "kernelspec": {
   "display_name": "Python 3 (ipykernel)",
   "language": "python",
   "name": "python3"
  },
  "language_info": {
   "codemirror_mode": {
    "name": "ipython",
    "version": 3
   },
   "file_extension": ".py",
   "mimetype": "text/x-python",
   "name": "python",
   "nbconvert_exporter": "python",
   "pygments_lexer": "ipython3",
   "version": "3.13.5"
  }
 },
 "nbformat": 4,
 "nbformat_minor": 5
}
