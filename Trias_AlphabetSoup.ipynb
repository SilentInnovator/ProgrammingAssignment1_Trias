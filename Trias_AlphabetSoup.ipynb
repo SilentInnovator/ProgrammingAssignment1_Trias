{
 "cells": [
  {
   "cell_type": "code",
   "execution_count": 7,
   "id": "31afdc2c-1150-48f9-972e-4eed1394512e",
   "metadata": {},
   "outputs": [
    {
     "name": "stdin",
     "output_type": "stream",
     "text": [
      "  universe\n"
     ]
    }
   ],
   "source": [
    "s = input (\" \")"
   ]
  },
  {
   "cell_type": "code",
   "execution_count": 15,
   "id": "ccfd9584-1a68-43d1-b2c1-17252f86a168",
   "metadata": {
    "scrolled": true
   },
   "outputs": [
    {
     "data": {
      "text/plain": [
       "'eeinrsuv'"
      ]
     },
     "execution_count": 15,
     "metadata": {},
     "output_type": "execute_result"
    }
   ],
   "source": [
    "''.join(sorted(s))"
   ]
  }
 ],
 "metadata": {
  "kernelspec": {
   "display_name": "Python 3 (ipykernel)",
   "language": "python",
   "name": "python3"
  },
  "language_info": {
   "codemirror_mode": {
    "name": "ipython",
    "version": 3
   },
   "file_extension": ".py",
   "mimetype": "text/x-python",
   "name": "python",
   "nbconvert_exporter": "python",
   "pygments_lexer": "ipython3",
   "version": "3.13.5"
  }
 },
 "nbformat": 4,
 "nbformat_minor": 5
}
