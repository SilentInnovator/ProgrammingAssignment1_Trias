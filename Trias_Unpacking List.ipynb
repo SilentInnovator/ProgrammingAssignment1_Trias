{
 "cells": [
  {
   "cell_type": "code",
   "execution_count": 175,
   "id": "df3d2d21-4ae7-4608-8132-1cb2f89d74c9",
   "metadata": {},
   "outputs": [],
   "source": [
    "v=[]"
   ]
  },
  {
   "cell_type": "code",
   "execution_count": 177,
   "id": "08a90c5f-103f-45f9-a46a-4f819ed5e66e",
   "metadata": {},
   "outputs": [
    {
     "name": "stdin",
     "output_type": "stream",
     "text": [
      "Please enter the number of elements:  6\n"
     ]
    }
   ],
   "source": [
    "w = int(input(\"Please enter the number of elements: \"))"
   ]
  },
  {
   "cell_type": "code",
   "execution_count": 179,
   "id": "d9786de3-502c-44d4-b1b5-5a68a30b12f8",
   "metadata": {
    "scrolled": true
   },
   "outputs": [
    {
     "name": "stdin",
     "output_type": "stream",
     "text": [
      " 6\n",
      " 5\n",
      " 4\n",
      " 2\n",
      " 3\n",
      " 1\n"
     ]
    }
   ],
   "source": [
    "for i in range (w):\n",
    "    x = input(\"\")\n",
    "    v.append(x)"
   ]
  },
  {
   "cell_type": "code",
   "execution_count": 181,
   "id": "7ba1ab36-14a9-4c74-b7a6-9556f25d8de1",
   "metadata": {
    "scrolled": true
   },
   "outputs": [
    {
     "name": "stdout",
     "output_type": "stream",
     "text": [
      "first:  6\n",
      "middle:  ['5', '4', '2', '3']\n",
      "last:  1\n"
     ]
    },
    {
     "data": {
      "text/plain": [
       "(None, None, None)"
      ]
     },
     "execution_count": 181,
     "metadata": {},
     "output_type": "execute_result"
    }
   ],
   "source": [
    "print (\"first: \",v[0]), print (\"middle: \", v[1:-1],), print (\"last: \",v[-1])"
   ]
  },
  {
   "cell_type": "code",
   "execution_count": null,
   "id": "d5d9a571-17c1-4b40-8148-96a7450ab550",
   "metadata": {},
   "outputs": [],
   "source": []
  }
 ],
 "metadata": {
  "kernelspec": {
   "display_name": "Python 3 (ipykernel)",
   "language": "python",
   "name": "python3"
  },
  "language_info": {
   "codemirror_mode": {
    "name": "ipython",
    "version": 3
   },
   "file_extension": ".py",
   "mimetype": "text/x-python",
   "name": "python",
   "nbconvert_exporter": "python",
   "pygments_lexer": "ipython3",
   "version": "3.13.5"
  }
 },
 "nbformat": 4,
 "nbformat_minor": 5
}
